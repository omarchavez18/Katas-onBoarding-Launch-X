{
 "cells": [
  {
   "cell_type": "code",
   "execution_count": 4,
   "metadata": {},
   "outputs": [
    {
     "name": "stdout",
     "output_type": "stream",
     "text": [
      "la distancia en kilometros es de 628949330\n",
      "la distancia en millas es de 390577533.93\n"
     ]
    }
   ],
   "source": [
    "\n",
    "\n",
    "firstPlanet = 149597870\n",
    "secondPlanet = 778547200\n",
    "\n",
    "# Calcular la distancia entre planetas\n",
    "\n",
    "distanceKm = secondPlanet - firstPlanet\n",
    "print(\"la distancia en kilometros es de \" + str (distanceKm))\n",
    "\n",
    "distanceMillas = distanceKm * 0.621\n",
    "print(\"la distancia en millas es de \" + str (distanceMillas))\n"
   ]
  },
  {
   "cell_type": "code",
   "execution_count": 7,
   "metadata": {},
   "outputs": [
    {
     "name": "stdout",
     "output_type": "stream",
     "text": [
      "-4946\n",
      "3071.466\n"
     ]
    }
   ],
   "source": [
    "\n",
    "firstPlanet = input('distancia del sol para el primer planeta en KM')\n",
    "secondPlanet = input('distancia desde el sol para el segundo planeta en KM')\n",
    "\n",
    "# Convierte las cadenas de ambos planetas a números enteros\n",
    "firstPlanet = int(firstPlanet)\n",
    "secondPlanet = int(secondPlanet)\n",
    "\n",
    "# Realizar el cálculo y determinar el valor absoluto\n",
    "distanceKm = secondPlanet - firstPlanet\n",
    "print(distanceKm)\n",
    "\n",
    "# Convertir de KM a Millas\n",
    "distanceMillas = distanceKm * 0.621\n",
    "print(abs(distanceMillas))\n",
    "\n"
   ]
  }
 ],
 "metadata": {
  "interpreter": {
   "hash": "2be5faf79681da6f2a61fdfdd5405d65d042280f7fba6178067603e3a2925119"
  },
  "kernelspec": {
   "display_name": "Python 3.10.2 64-bit",
   "language": "python",
   "name": "python3"
  },
  "language_info": {
   "codemirror_mode": {
    "name": "ipython",
    "version": 3
   },
   "file_extension": ".py",
   "mimetype": "text/x-python",
   "name": "python",
   "nbconvert_exporter": "python",
   "pygments_lexer": "ipython3",
   "version": "3.10.2"
  },
  "orig_nbformat": 4
 },
 "nbformat": 4,
 "nbformat_minor": 2
}
