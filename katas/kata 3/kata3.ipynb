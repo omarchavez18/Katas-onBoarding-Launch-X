{
 "cells": [
  {
   "cell_type": "markdown",
   "metadata": {},
   "source": [
    "\n",
    "# Añadir el código necesario para crear una variable que guarde la velocidad del asteroide.\n",
    "# Escribe una expresión de prueba para calcular si necesita una advertencia.\n",
    "# Agregue las instrucciones que se ejecutarán si la expresión de prueba es true o false.\n"
   ]
  },
  {
   "cell_type": "code",
   "execution_count": 1,
   "metadata": {},
   "outputs": [
    {
     "name": "stdout",
     "output_type": "stream",
     "text": [
      "alerta, un asteroide se acerca a una velocidad peligrosa\n"
     ]
    }
   ],
   "source": [
    "asteroide = 49\n",
    "if asteroide > 25:\n",
    "     print ('alerta, un asteroide se acerca a una velocidad peligrosa')\n",
    "else:\n",
    "      print (\"sigue con tu dia\")\n"
   ]
  },
  {
   "cell_type": "markdown",
   "metadata": {},
   "source": [
    "# Agrega el código para crear una variable para un asteroide que viaja a 19 km/s\n",
    "# Escribe varias expresiones de prueba para determinar si puedes ver el rayo de luz desde la tierra\n",
    "# Agrega las instrucciones que se ejecutarán si las expresiones de prueba son True o False"
   ]
  },
  {
   "cell_type": "code",
   "execution_count": 2,
   "metadata": {},
   "outputs": [
    {
     "name": "stdout",
     "output_type": "stream",
     "text": [
      "un asteroide viene a la tierra\n"
     ]
    }
   ],
   "source": [
    "asteroide = 19\n",
    "if asteroide >=20:\n",
    "    print('hay luces en el cielo')\n",
    "elif asteroide ==19:\n",
    "  print(\"un asteroide viene a la tierra\")\n",
    "else:\n",
    " print(\"no hay asteroides\")\n"
   ]
  },
  {
   "cell_type": "markdown",
   "metadata": {},
   "source": [
    "# Agrega el código para crear nuevas variables para la velocidad y el tamaño del asteroide\n",
    "# Para probar el código, prueba con varias velocidades y tamaños\n",
    "# Escribe varias expresiones de prueba o combinaciones de expresiones de prueba para determinar qué mensaje se debe enviar a Tierra.\n"
   ]
  },
  {
   "cell_type": "code",
   "execution_count": 7,
   "metadata": {},
   "outputs": [
    {
     "name": "stdout",
     "output_type": "stream",
     "text": [
      "alerta, asteroide causara mucho daño\n"
     ]
    }
   ],
   "source": [
    "velocidadAsteroide = 25\n",
    "tamañoAsteroide = 30\n",
    "if tamañoAsteroide>25 and tamañoAsteroide <1000:\n",
    "    print(\"alerta, asteroide causara mucho daño\")\n",
    "elif velocidadAsteroide> 25:\n",
    "    print(\"advertencia de asteroide\")\n",
    "elif velocidadAsteroide>=20:\n",
    "    print(\"se produce un rayo de luz\")\n",
    "else:\n",
    "    print(\"nada que ver aqui\")"
   ]
  }
 ],
 "metadata": {
  "interpreter": {
   "hash": "2be5faf79681da6f2a61fdfdd5405d65d042280f7fba6178067603e3a2925119"
  },
  "kernelspec": {
   "display_name": "Python 3.10.2 64-bit",
   "language": "python",
   "name": "python3"
  },
  "language_info": {
   "codemirror_mode": {
    "name": "ipython",
    "version": 3
   },
   "file_extension": ".py",
   "mimetype": "text/x-python",
   "name": "python",
   "nbconvert_exporter": "python",
   "pygments_lexer": "ipython3",
   "version": "3.10.2"
  },
  "orig_nbformat": 4
 },
 "nbformat": 4,
 "nbformat_minor": 2
}
