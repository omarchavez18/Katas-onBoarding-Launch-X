{
 "cells": [
  {
   "cell_type": "markdown",
   "metadata": {},
   "source": [
    "lista de planetas"
   ]
  },
  {
   "cell_type": "code",
   "execution_count": 1,
   "metadata": {},
   "outputs": [
    {
     "name": "stdout",
     "output_type": "stream",
     "text": [
      "['Mercurio', 'Venus', 'tierra', 'Marte', 'Jupiter', 'Saturno', 'Neptuno']\n"
     ]
    }
   ],
   "source": [
    "planetas = ['Mercurio', 'Venus', 'tierra', 'Marte', 'Jupiter', 'Saturno', 'Neptuno']\n",
    "print(planetas)"
   ]
  },
  {
   "cell_type": "code",
   "execution_count": 4,
   "metadata": {},
   "outputs": [
    {
     "name": "stdout",
     "output_type": "stream",
     "text": [
      "los planetas mas cercanos a  Venus\n",
      "['Mercurio']\n",
      "los planetas más lejanos al sol Venus\n",
      "['tierra', 'Marte', 'Jupiter', 'Saturno', 'Neptuno', 'pluton', 'pluton']\n"
     ]
    }
   ],
   "source": [
    "planetas.append(\"pluton\")\n",
    "planeta = input('Please enter the name of the planet (with a capital letter to start)')\n",
    "planet_index = planetas.index(planeta)\n",
    "\n",
    "\n",
    "\n",
    "print('los planetas mas cercanos a  ' + planeta)\n",
    "print(planetas[0:planet_index])\n",
    "\n",
    "\n",
    "\n",
    "print('los planetas más lejanos al sol ' + planeta)\n",
    "print(planetas[planet_index + 1:])"
   ]
  }
 ],
 "metadata": {
  "interpreter": {
   "hash": "2be5faf79681da6f2a61fdfdd5405d65d042280f7fba6178067603e3a2925119"
  },
  "kernelspec": {
   "display_name": "Python 3.10.2 64-bit",
   "language": "python",
   "name": "python3"
  },
  "language_info": {
   "codemirror_mode": {
    "name": "ipython",
    "version": 3
   },
   "file_extension": ".py",
   "mimetype": "text/x-python",
   "name": "python",
   "nbconvert_exporter": "python",
   "pygments_lexer": "ipython3",
   "version": "3.10.2"
  },
  "orig_nbformat": 4
 },
 "nbformat": 4,
 "nbformat_minor": 2
}
